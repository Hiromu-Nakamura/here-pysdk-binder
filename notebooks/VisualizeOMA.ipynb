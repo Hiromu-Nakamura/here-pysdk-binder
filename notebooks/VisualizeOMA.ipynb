{
 "cells": [
  {
   "cell_type": "markdown",
   "metadata": {},
   "source": [
    "# Visualize Data \n",
    "**In this notebook we render a street network on a map using the Optimized Map for Analytics (OMA). We read the corresponding partitions from the OMA topology_geometry layer within a given bounding box, pass the data to the inspector which renders the geo-polylines on a map. In addition for the same tiles we also render some sample GeoJSON data showing Berlin districts.**\n",
    "\n",
    "### Dependencies\n",
    "* Catalogs: [HERE Optimized Map For Analytics](https://platform.here.com/data/hrn:here:data::olp-here:oma-3), [HERE GeoJSON Samples](https://platform.here.com/data/hrn:here:data::olp-here:here-geojson-samples)\n",
    "* Layers: [topology_geometry_segment](https://platform.here.com/data/hrn:here:data::olp-here:oma-3/topology_geometry_segment), [berlin-districts](https://platform.here.com/data/hrn:here:data::olp-here:here-geojson-samples/berlin-districts)\n",
    "* Languages: Python\n",
    "\n",
    "### Workflow\n",
    "* Import Packages\n",
    "* Retrieve the two catalogs and layers\n",
    "* Define a bounding box\n",
    "* Get partitions covered by the bounding box as dataframes\n",
    "* Show dataframes on a map using the inspector"
   ]
  },
  {
   "cell_type": "markdown",
   "metadata": {},
   "source": [
    "## Import packages"
   ]
  },
  {
   "cell_type": "code",
   "execution_count": 1,
   "metadata": {},
   "outputs": [],
   "source": [
    "import json\n",
    "\n",
    "from shapely.geometry import shape\n",
    "import geopandas as gpd\n",
    "\n",
    "from here.platform import Platform\n",
    "from here.geopandas_adapter import GeoPandasAdapter\n",
    "from here.geotiles.heretile import in_bounding_box\n",
    "from here.inspector.ipyleaflet import IpyleafletInspector"
   ]
  },
  {
   "cell_type": "markdown",
   "metadata": {},
   "source": [
    "## Retrieve catalogs and layers"
   ]
  },
  {
   "cell_type": "code",
   "execution_count": 2,
   "metadata": {},
   "outputs": [],
   "source": [
    "hp = Platform(adapter=GeoPandasAdapter())\n",
    "oma_cat = hp.get_catalog('hrn:here:data::olp-here:oma-3')\n",
    "oma_layer = oma_cat.get_layer('topology_geometry_segment')\n",
    "samples_cat = hp.get_catalog('hrn:here:data::olp-here:here-geojson-samples')\n",
    "samples_layer = samples_cat.get_layer('berlin-districts')\n",
    "zoom_level = 12"
   ]
  },
  {
   "cell_type": "code",
   "execution_count": 3,
   "metadata": {},
   "outputs": [],
   "source": [
    "samples_cat.open_in_portal()"
   ]
  },
  {
   "cell_type": "markdown",
   "metadata": {},
   "source": [
    "## Define a bounding box"
   ]
  },
  {
   "cell_type": "code",
   "execution_count": 4,
   "metadata": {},
   "outputs": [],
   "source": [
    "west = 13.35\n",
    "south = 52.52\n",
    "east = 13.37\n",
    "north = 52.53"
   ]
  },
  {
   "cell_type": "markdown",
   "metadata": {},
   "source": [
    "## Get partitions covered by the bounding box"
   ]
  },
  {
   "cell_type": "code",
   "execution_count": 5,
   "metadata": {},
   "outputs": [],
   "source": [
    "partition_ids = list(in_bounding_box(west=west, south=south, east=east, north=north, level=zoom_level))"
   ]
  },
  {
   "cell_type": "code",
   "execution_count": 6,
   "metadata": {},
   "outputs": [
    {
     "data": {
      "text/html": [
       "<div>\n",
       "<style scoped>\n",
       "    .dataframe tbody tr th:only-of-type {\n",
       "        vertical-align: middle;\n",
       "    }\n",
       "\n",
       "    .dataframe tbody tr th {\n",
       "        vertical-align: top;\n",
       "    }\n",
       "\n",
       "    .dataframe thead th {\n",
       "        text-align: right;\n",
       "    }\n",
       "</style>\n",
       "<table border=\"1\" class=\"dataframe\">\n",
       "  <thead>\n",
       "    <tr style=\"text-align: right;\">\n",
       "      <th></th>\n",
       "      <th>partition_id</th>\n",
       "      <th>Bez</th>\n",
       "      <th>BezName</th>\n",
       "      <th>geometry</th>\n",
       "    </tr>\n",
       "  </thead>\n",
       "  <tbody>\n",
       "    <tr>\n",
       "      <th>0</th>\n",
       "      <td>23618402</td>\n",
       "      <td>01</td>\n",
       "      <td>Mitte</td>\n",
       "      <td>MULTIPOLYGON (((13.42940 52.50857, 13.42903 52...</td>\n",
       "    </tr>\n",
       "    <tr>\n",
       "      <th>1</th>\n",
       "      <td>23618402</td>\n",
       "      <td>02</td>\n",
       "      <td>Friedrichshain-Kreuzberg</td>\n",
       "      <td>MULTIPOLYGON (((13.49145 52.48827, 13.49071 52...</td>\n",
       "    </tr>\n",
       "  </tbody>\n",
       "</table>\n",
       "</div>"
      ],
      "text/plain": [
       "  partition_id Bez                   BezName  \\\n",
       "0     23618402  01                     Mitte   \n",
       "1     23618402  02  Friedrichshain-Kreuzberg   \n",
       "\n",
       "                                            geometry  \n",
       "0  MULTIPOLYGON (((13.42940 52.50857, 13.42903 52...  \n",
       "1  MULTIPOLYGON (((13.49145 52.48827, 13.49071 52...  "
      ]
     },
     "execution_count": 6,
     "metadata": {},
     "output_type": "execute_result"
    }
   ],
   "source": [
    "samples_gdf = samples_layer.read_partitions(partition_ids)\n",
    "samples_gdf.head()"
   ]
  },
  {
   "cell_type": "code",
   "execution_count": 7,
   "metadata": {},
   "outputs": [
    {
     "data": {
      "text/html": [
       "<div>\n",
       "<style scoped>\n",
       "    .dataframe tbody tr th:only-of-type {\n",
       "        vertical-align: middle;\n",
       "    }\n",
       "\n",
       "    .dataframe tbody tr th {\n",
       "        vertical-align: top;\n",
       "    }\n",
       "\n",
       "    .dataframe thead th {\n",
       "        text-align: right;\n",
       "    }\n",
       "</style>\n",
       "<table border=\"1\" class=\"dataframe\">\n",
       "  <thead>\n",
       "    <tr style=\"text-align: right;\">\n",
       "      <th></th>\n",
       "      <th>partition_id</th>\n",
       "      <th>identifier</th>\n",
       "      <th>start_node_partition_name</th>\n",
       "      <th>start_node_identifier</th>\n",
       "      <th>end_node_partition_name</th>\n",
       "      <th>end_node_identifier</th>\n",
       "      <th>geometry</th>\n",
       "      <th>length</th>\n",
       "      <th>partition_name</th>\n",
       "    </tr>\n",
       "  </thead>\n",
       "  <tbody>\n",
       "    <tr>\n",
       "      <th>0</th>\n",
       "      <td>23618359</td>\n",
       "      <td>here:cm:segment:100000830</td>\n",
       "      <td>23618359</td>\n",
       "      <td>here:cm:node:60971159</td>\n",
       "      <td>23618359</td>\n",
       "      <td>here:cm:node:952797195</td>\n",
       "      <td>LINESTRING Z (13.31280 52.49147 0.00000, 13.31...</td>\n",
       "      <td>175.63838</td>\n",
       "      <td>23618359</td>\n",
       "    </tr>\n",
       "    <tr>\n",
       "      <th>1</th>\n",
       "      <td>23618359</td>\n",
       "      <td>here:cm:segment:100000831</td>\n",
       "      <td>23618359</td>\n",
       "      <td>here:cm:node:952797195</td>\n",
       "      <td>23618359</td>\n",
       "      <td>here:cm:node:60970387</td>\n",
       "      <td>LINESTRING Z (13.31116 52.49269 0.00000, 13.31...</td>\n",
       "      <td>60.89581</td>\n",
       "      <td>23618359</td>\n",
       "    </tr>\n",
       "    <tr>\n",
       "      <th>2</th>\n",
       "      <td>23618359</td>\n",
       "      <td>here:cm:segment:100000832</td>\n",
       "      <td>23618359</td>\n",
       "      <td>here:cm:node:816987233</td>\n",
       "      <td>23618359</td>\n",
       "      <td>here:cm:node:952797197</td>\n",
       "      <td>LINESTRING Z (13.31230 52.49252 0.00000, 13.31...</td>\n",
       "      <td>72.71313</td>\n",
       "      <td>23618359</td>\n",
       "    </tr>\n",
       "    <tr>\n",
       "      <th>3</th>\n",
       "      <td>23618359</td>\n",
       "      <td>here:cm:segment:100000833</td>\n",
       "      <td>23618359</td>\n",
       "      <td>here:cm:node:952797197</td>\n",
       "      <td>23618359</td>\n",
       "      <td>here:cm:node:857683726</td>\n",
       "      <td>LINESTRING Z (13.31138 52.49280 0.00000, 13.31...</td>\n",
       "      <td>47.83709</td>\n",
       "      <td>23618359</td>\n",
       "    </tr>\n",
       "    <tr>\n",
       "      <th>4</th>\n",
       "      <td>23618359</td>\n",
       "      <td>here:cm:segment:100000834</td>\n",
       "      <td>23618359</td>\n",
       "      <td>here:cm:node:952797195</td>\n",
       "      <td>23618359</td>\n",
       "      <td>here:cm:node:952797197</td>\n",
       "      <td>LINESTRING Z (13.31116 52.49269 0.00000, 13.31...</td>\n",
       "      <td>19.31613</td>\n",
       "      <td>23618359</td>\n",
       "    </tr>\n",
       "  </tbody>\n",
       "</table>\n",
       "</div>"
      ],
      "text/plain": [
       "  partition_id                 identifier start_node_partition_name  \\\n",
       "0     23618359  here:cm:segment:100000830                  23618359   \n",
       "1     23618359  here:cm:segment:100000831                  23618359   \n",
       "2     23618359  here:cm:segment:100000832                  23618359   \n",
       "3     23618359  here:cm:segment:100000833                  23618359   \n",
       "4     23618359  here:cm:segment:100000834                  23618359   \n",
       "\n",
       "    start_node_identifier end_node_partition_name     end_node_identifier  \\\n",
       "0   here:cm:node:60971159                23618359  here:cm:node:952797195   \n",
       "1  here:cm:node:952797195                23618359   here:cm:node:60970387   \n",
       "2  here:cm:node:816987233                23618359  here:cm:node:952797197   \n",
       "3  here:cm:node:952797197                23618359  here:cm:node:857683726   \n",
       "4  here:cm:node:952797195                23618359  here:cm:node:952797197   \n",
       "\n",
       "                                            geometry     length partition_name  \n",
       "0  LINESTRING Z (13.31280 52.49147 0.00000, 13.31...  175.63838       23618359  \n",
       "1  LINESTRING Z (13.31116 52.49269 0.00000, 13.31...   60.89581       23618359  \n",
       "2  LINESTRING Z (13.31230 52.49252 0.00000, 13.31...   72.71313       23618359  \n",
       "3  LINESTRING Z (13.31138 52.49280 0.00000, 13.31...   47.83709       23618359  \n",
       "4  LINESTRING Z (13.31116 52.49269 0.00000, 13.31...   19.31613       23618359  "
      ]
     },
     "execution_count": 7,
     "metadata": {},
     "output_type": "execute_result"
    }
   ],
   "source": [
    "oma_df = oma_layer.read_partitions(partition_ids)\n",
    "geometry = oma_df['geometry'].apply(lambda obj: shape(json.loads(obj)))\n",
    "oma_gdf = gpd.GeoDataFrame(oma_df, geometry=geometry)\n",
    "oma_gdf.head()"
   ]
  },
  {
   "cell_type": "markdown",
   "metadata": {},
   "source": [
    "## Visualize dataframes using inspector"
   ]
  },
  {
   "cell_type": "code",
   "execution_count": 8,
   "metadata": {
    "tags": []
   },
   "outputs": [
    {
     "data": {
      "application/vnd.jupyter.widget-view+json": {
       "model_id": "43a4916360d64a11ab7d9b45499e0789",
       "version_major": 2,
       "version_minor": 0
      },
      "text/plain": [
       "Map(center=[52.518047605, 13.37907652], controls=(LayersControl(options=['position']), ZoomControl(options=['p…"
      ]
     },
     "metadata": {},
     "output_type": "display_data"
    }
   ],
   "source": [
    "insp = IpyleafletInspector().set_zoom(zoom_level)\n",
    "insp.add_features(features=oma_gdf, name=\"Streets\", style={\"color\": \"#5D8AA8\", \"weight\": 1})\n",
    "insp.add_features(features=samples_gdf, name=\"Districts\", style={\"color\": \"#AB274F\"})\n",
    "insp.show()"
   ]
  },
  {
   "cell_type": "markdown",
   "metadata": {},
   "source": [
    "<span style=\"float:left; margin-top:15px;\"><img src=\"images/HERE_Logo.png\" alt=\"HERE Logo\" height=\"60\" width=\"60\"></span><span style=\"float:right; width:90%;\"><sub><b>Copyright (c) 2020-2021 HERE Global B.V. and its affiliate(s). All rights reserved.</b>\n",
    "This software, including documentation, is protected by copyright controlled by HERE. All rights are reserved. Copying, including reproducing, storing, adapting or translating, any or all of this material requires the prior written consent of HERE. This material also contains confidential information which may not be disclosed to others without the prior written consent of HERE.</sub></span>"
   ]
  }
 ],
 "metadata": {
  "kernelspec": {
   "display_name": "Python 3 (ipykernel)",
   "language": "python",
   "name": "python3"
  },
  "language_info": {
   "codemirror_mode": {
    "name": "ipython",
    "version": 3
   },
   "file_extension": ".py",
   "mimetype": "text/x-python",
   "name": "python",
   "nbconvert_exporter": "python",
   "pygments_lexer": "ipython3",
   "version": "3.9.7"
  },
  "toc": {
   "base_numbering": 1,
   "nav_menu": {},
   "number_sections": false,
   "sideBar": false,
   "skip_h1_title": false,
   "title_cell": "Table of Contents",
   "title_sidebar": "Contents",
   "toc_cell": false,
   "toc_position": {},
   "toc_section_display": false,
   "toc_window_display": false
  }
 },
 "nbformat": 4,
 "nbformat_minor": 4
}
